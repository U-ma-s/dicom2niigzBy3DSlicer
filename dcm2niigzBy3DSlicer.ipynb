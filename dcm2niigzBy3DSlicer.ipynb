{
 "cells": [
  {
   "cell_type": "markdown",
   "id": "bf35e77c",
   "metadata": {},
   "source": [
    "このプログラムはvscodeではなく、anacondaから\"base\"環境でjupyternotebookを起動し、\"Slicer5.6\"カーネルを選択して実行する\n",
    "参考：https://www.youtube.com/watch?v=jcRsRw6RC2g&pp=ygUVc2xpY2VyIHB5dGhvbiBqdXB5dGVy"
   ]
  },
  {
   "cell_type": "markdown",
   "id": "00a4dfc8",
   "metadata": {},
   "source": [
    "databaseにdicomをimportする処理を作成する。"
   ]
  },
  {
   "cell_type": "code",
   "execution_count": 1,
   "id": "8a314a9d",
   "metadata": {},
   "outputs": [],
   "source": [
    "import slicer\n",
    "from DICOMLib import DICOMUtils\n",
    "import os"
   ]
  },
  {
   "cell_type": "markdown",
   "id": "c300ce33",
   "metadata": {},
   "source": [
    "## DICOMデータをSlicer databaseにimportする処理"
   ]
  },
  {
   "cell_type": "code",
   "execution_count": 2,
   "id": "95836dc1",
   "metadata": {},
   "outputs": [],
   "source": [
    "dicomFilesDirectory = \"C://Users/user/Documents/liver/inputs/images/15680/\" # 指定したフォルダ内のdicomのみimport\n",
    "# dicomFilesDirectory = \"C://Users/user/Documents/liver/inputs/images/\"  # これで全データをimport\n",
    "\n",
    "# instantiate a new DICOM browser\n",
    "slicer.util.selectModule(\"DICOM\")\n",
    "dicomBrowser = slicer.modules.DICOMWidget.browserWidget.dicomBrowser\n",
    "# use dicomBrowser.ImportDirectoryCopy to make a copy of the files (useful for importing data from removable storage)\n",
    "dicomBrowser.importDirectory(dicomFilesDirectory, dicomBrowser.ImportDirectoryAddLink)\n",
    "# wait for import to finish before proceeding (optional, if removed then import runs in the background)\n",
    "dicomBrowser.waitForImportFinished()"
   ]
  },
  {
   "cell_type": "code",
   "execution_count": null,
   "id": "ce6a053f",
   "metadata": {},
   "outputs": [],
   "source": [
    "# 読み込み結果の確認\n",
    "patientUIDs = slicer.dicomDatabase.patients()\n",
    "print(patientUIDs)\n",
    "print(len(patientUIDs))"
   ]
  },
  {
   "cell_type": "markdown",
   "id": "3e688713",
   "metadata": {},
   "source": [
    "## データの読み込みと書き出し"
   ]
  },
  {
   "cell_type": "code",
   "execution_count": 71,
   "id": "299b3b84",
   "metadata": {},
   "outputs": [],
   "source": [
    "dicomFilesDirectory = \"C://Users/user/Documents/liver/inputs/images/\"  # これで全データをimportすることができた\n",
    "# instantiate a new DICOM browser\n",
    "slicer.util.selectModule(\"DICOM\")\n",
    "dicomBrowser = slicer.modules.DICOMWidget.browserWidget.dicomBrowser\n",
    "# use dicomBrowser.ImportDirectoryCopy to make a copy of the files (useful for importing data from removable storage)\n",
    "dicomBrowser.importDirectory(dicomFilesDirectory, dicomBrowser.ImportDirectoryAddLink)\n",
    "# wait for import to finish before proceeding (optional, if removed then import runs in the background)\n",
    "dicomBrowser.waitForImportFinished()"
   ]
  },
  {
   "cell_type": "code",
   "execution_count": null,
   "id": "90e4cf37",
   "metadata": {},
   "outputs": [],
   "source": [
    "# slicer.dicomDatabase.imagesCount()\n",
    "# slicer.dicomDatabase.patientsCount()\n",
    "patientUIDs = slicer.dicomDatabase.patients()\n",
    "print(patientUIDs)\n",
    "print(len(patientUIDs))\n",
    "for ids in patientUIDs:\n",
    "    slicer.dicomDatabase.removePatient(ids) # これで指定した患者を消せる！\n",
    "patientUIDs = slicer.dicomDatabase.patients()\n",
    "print(patientUIDs)\n",
    "print(len(patientUIDs))"
   ]
  },
  {
   "cell_type": "code",
   "execution_count": null,
   "id": "4141a037",
   "metadata": {},
   "outputs": [],
   "source": [
    "# descriptionの出現回数を保存する辞書を作成\n",
    "from collections import Counter\n",
    "# Initialize an empty Counter object\n",
    "string_counter = Counter()\n",
    "# Update the counter with the strings\n",
    "def update_counter(string):\n",
    "    string_counter[string] += 1\n",
    "# スペースを\"_\"に置き換える関数\n",
    "import re\n",
    "def replace_spaces_to_underscore(string):\n",
    "    # Replace consecutive spaces with a single underscore\n",
    "    string = re.sub(r'\\s+', '_', string)\n",
    "    # Replace full-width spaces with an underscore\n",
    "    string = string.replace('　', '_')\n",
    "    return string\n",
    "    \n",
    "# descriptionの一覧を表示\n",
    "patientUIDs = slicer.dicomDatabase.patients()\n",
    "for patientUID in patientUIDs:\n",
    "    studyList = slicer.dicomDatabase.studiesForPatient(patientUID)\n",
    "    for study in studyList:\n",
    "        seriesList = slicer.dicomDatabase.seriesForStudy(study)\n",
    "        for series in seriesList:\n",
    "            description = slicer.dicomDatabase.descriptionForSeries(series)\n",
    "#             print(description)\n",
    "#             fileList = db.filesForSeries(seriesList[0])\n",
    "            update_counter(replace_spaces_to_underscore(description))\n",
    "print(string_counter)"
   ]
  },
  {
   "cell_type": "code",
   "execution_count": null,
   "id": "208a7268",
   "metadata": {},
   "outputs": [],
   "source": [
    "# 同じファイル名になる場合に対処\n",
    "from collections import Counter\n",
    "# Initialize an empty Counter object\n",
    "check_duplication = Counter()\n",
    "# Update the counter with the strings\n",
    "def check_dup(string):\n",
    "    check_duplication[string] += 1\n",
    "\n",
    "# input, outputフォルダーの定義\n",
    "input_path = \"C://Users/user/Documents/liver/inputs/images/\"  # これで全データをimport\n",
    "outputFolder = \"C://Users/user/Documents/liver/niigz/\"\n",
    "\n",
    "for file_name in os.listdir(input_path): # file_name: 15678,15679,...\n",
    "    if not os.path.exists(os.path.join(outputFolder,file_name)):\n",
    "        os.mkdir(os.path.join(outputFolder,file_name)) # 症例番号ごとのフォルダを作成\n",
    "    \n",
    "    dicomFilesDirectory = os.path.join(input_path, file_name)\n",
    "\n",
    "# dicomデータをslicer databaseにimport\n",
    "    # instantiate a new DICOM browser\n",
    "    slicer.util.selectModule(\"DICOM\")\n",
    "    dicomBrowser = slicer.modules.DICOMWidget.browserWidget.dicomBrowser\n",
    "    # use dicomBrowser.ImportDirectoryCopy to make a copy of the files (useful for importing data from removable storage)\n",
    "    dicomBrowser.importDirectory(dicomFilesDirectory, dicomBrowser.ImportDirectoryAddLink)\n",
    "    # wait for import to finish before proceeding (optional, if removed then import runs in the background)\n",
    "    dicomBrowser.waitForImportFinished()\n",
    "    \n",
    "# nii.gzに変換して書き出し\n",
    "    patientUIDs = slicer.dicomDatabase.patients()\n",
    "    for patientUID in patientUIDs:\n",
    "        loadedNodeIDs = DICOMUtils.loadPatientByUID(patientUID)\n",
    "        for loadedNodeID in loadedNodeIDs:\n",
    "            # Check if we want to save this node\n",
    "            node = slicer.mrmlScene.GetNodeByID(loadedNodeID)\n",
    "            # Only export images\n",
    "            if not node or not node.IsA('vtkMRMLScalarVolumeNode'):\n",
    "                continue\n",
    "            # Construct filename\n",
    "            shNode = slicer.mrmlScene.GetSubjectHierarchyNode()\n",
    "            seriesItem = shNode.GetItemByDataNode(node)\n",
    "            studyItem = shNode.GetItemParent(seriesItem)\n",
    "            patientItem = shNode.GetItemParent(studyItem)\n",
    "            filename = shNode.GetItemAttribute(patientItem, 'DICOM.PatientID')\n",
    "            filename += '_' + shNode.GetItemAttribute(studyItem, 'DICOM.StudyDate')\n",
    "            filename += '_' + shNode.GetItemAttribute(seriesItem, 'DICOM.SeriesNumber')\n",
    "            filename += '_' + shNode.GetItemAttribute(seriesItem, 'DICOM.Modality')\n",
    "            check_dup(filename)#同じ名前のファイルが出力され上書きされるのを防ぐ\n",
    "            if check_duplication[filename]>1:\n",
    "                filename += '_' + str(check_duplication[filename]-1)\n",
    "#             print(filename)\n",
    "            filename = slicer.app.ioManager().forceFileNameValidCharacters(filename) + \".nii.gz\"\n",
    "            # Save node\n",
    "            print(f'Write {node.GetName()} to {filename}')\n",
    "            output_path = os.path.join(outputFolder,file_name)\n",
    "            output_path = os.path.join(output_path,filename)\n",
    "            print(output_path)\n",
    "            success = slicer.util.saveNode(node, output_path)\n",
    "        slicer.mrmlScene.Clear()\n",
    "    for ids in patientUIDs:\n",
    "        slicer.dicomDatabase.removePatient(ids) # これで指定した患者を消せる！"
   ]
  }
 ],
 "metadata": {
  "kernelspec": {
   "display_name": "Slicer 5.6",
   "language": "python",
   "name": "slicer-5.6"
  },
  "language_info": {
   "file_extension": ".py",
   "mimetype": "text/x-python",
   "name": "python",
   "version": "3.9.10"
  }
 },
 "nbformat": 4,
 "nbformat_minor": 5
}
